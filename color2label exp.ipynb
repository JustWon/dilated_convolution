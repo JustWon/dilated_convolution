{
 "cells": [
  {
   "cell_type": "code",
   "execution_count": 1,
   "metadata": {},
   "outputs": [],
   "source": [
    "import os\n",
    "import numpy as np\n",
    "from PIL import Image\n",
    "\n",
    "\n",
    "palette = np.array([[0, 0, 0],\n",
    "[128, 0, 0],\n",
    "[0, 128, 0],\n",
    "[128, 128, 0],\n",
    "[0, 0, 128],\n",
    "[128, 0, 128],\n",
    "[0, 128, 128],\n",
    "[128, 128, 128],\n",
    "[64, 0, 0],\n",
    "[192, 0, 0],\n",
    "[64, 128, 0],\n",
    "[192, 128, 0],\n",
    "[64, 0, 128],\n",
    "[192, 0, 128],\n",
    "[64, 128, 128],\n",
    "[192, 128, 128],\n",
    "[0, 64, 0],\n",
    "[128, 64, 0],\n",
    "[0, 192, 0],\n",
    "[128, 192, 0],\n",
    "[0, 64, 128]])"
   ]
  },
  {
   "cell_type": "code",
   "execution_count": 99,
   "metadata": {},
   "outputs": [],
   "source": [
    "def IoU_Calculation(gt_img, pred_img):\n",
    "    gt_img = gt_img.flatten()\n",
    "    pred_img = pred_img.flatten()\n",
    "    \n",
    "    IoU = []\n",
    "\n",
    "    for label in range(0,21):\n",
    "        intersection = 0 \n",
    "        union = 0\n",
    "        for gt, pred in zip(gt_img, pred_img):\n",
    "            if (gt == label and pred == label):\n",
    "                intersection += 1\n",
    "            if (gt == label or pred == label):\n",
    "                union += 1\n",
    "\n",
    "        if (intersection == 0):\n",
    "            IoU.append(0)\n",
    "        else:\n",
    "            IoU.append(intersection/union)\n",
    "    \n",
    "    return IoU"
   ]
  },
  {
   "cell_type": "code",
   "execution_count": 8,
   "metadata": {},
   "outputs": [],
   "source": [
    "def fromColor2Label(img):\n",
    "    img = (np.array(img))\n",
    "    \n",
    "    converted_label = np.zeros(img.shape[:2])\n",
    "    \n",
    "    for i, rows in enumerate(img):\n",
    "        for j, v in enumerate(rows):\n",
    "            \n",
    "            for index, color in enumerate(palette):\n",
    "                if (np.array_equal(v,color)):\n",
    "#                     converted_label[i,j] = [0,0,index]\n",
    "                    converted_label[i,j] = index\n",
    "    \n",
    "    return converted_label\n",
    "                    \n",
    "\n",
    "# converted_label = fromColor2Label(Image.open('/home/dongwonshin/Desktop/dilation/batch_results/2008_000059.png'))"
   ]
  },
  {
   "cell_type": "code",
   "execution_count": 9,
   "metadata": {},
   "outputs": [],
   "source": [
    "# prediected image conversion\n",
    "\n",
    "import scipy.misc\n",
    "\n",
    "with open('/home/dongwonshin/Desktop/Datasets/benchmark_RELEASE/dataset/val.txt') as fp:\n",
    "    contents = fp.readlines()\n",
    "\n",
    "for n, content in enumerate(contents):\n",
    "    pred_path =  os.path.join('/home/dongwonshin/Desktop/dilation/batch_results',content[:-1]+'.png')\n",
    "    converted_pred_path = os.path.join('/home/dongwonshin/Desktop/dilation/batch_results_converted',content[:-1]+'.png')\n",
    "    \n",
    "    pred_img = Image.open(pred_path)\n",
    "    converted_pred_img = fromColor2Label(pred_img)\n",
    "    \n",
    "    # 20 is the number of class (0~20)\n",
    "    scipy.misc.toimage(converted_pred_img, cmin=0, cmax=255).save(converted_pred_path)\n",
    "    \n",
    "#     IoU = IoU_Calculation(gt_img, pred_img)\n",
    "#     print(IoU)"
   ]
  },
  {
   "cell_type": "code",
   "execution_count": null,
   "metadata": {},
   "outputs": [],
   "source": []
  }
 ],
 "metadata": {
  "kernelspec": {
   "display_name": "Python [conda env:pytorch]",
   "language": "python",
   "name": "conda-env-pytorch-py"
  },
  "language_info": {
   "codemirror_mode": {
    "name": "ipython",
    "version": 3
   },
   "file_extension": ".py",
   "mimetype": "text/x-python",
   "name": "python",
   "nbconvert_exporter": "python",
   "pygments_lexer": "ipython3",
   "version": "3.5.4"
  },
  "nbpresent": {
   "slides": {},
   "themes": {
    "default": "a096e7f1-75c8-4add-bf6f-91586d812146",
    "theme": {
     "44db9d83-5fb7-46e1-bbb3-257c0db8f7a9": {
      "backgrounds": {
       "backgroundColor": {
        "background-color": "backgroundColor",
        "id": "backgroundColor"
       }
      },
      "id": "44db9d83-5fb7-46e1-bbb3-257c0db8f7a9",
      "palette": {
       "backgroundColor": {
        "id": "backgroundColor",
        "rgb": [
         253,
         246,
         227
        ]
       },
       "headingColor": {
        "id": "headingColor",
        "rgb": [
         88,
         110,
         117
        ]
       },
       "linkColor": {
        "id": "linkColor",
        "rgb": [
         38,
         139,
         210
        ]
       },
       "mainColor": {
        "id": "mainColor",
        "rgb": [
         101,
         123,
         131
        ]
       }
      },
      "rules": {
       "a": {
        "color": "linkColor"
       },
       "h1": {
        "color": "headingColor",
        "font-family": "Oswald",
        "font-size": 7
       },
       "h2": {
        "color": "headingColor",
        "font-family": "Oswald",
        "font-size": 5
       },
       "h3": {
        "color": "headingColor",
        "font-family": "Oswald",
        "font-size": 3.75
       },
       "h4": {
        "color": "headingColor",
        "font-family": "Oswald",
        "font-size": 3
       },
       "h5": {
        "color": "headingColor",
        "font-family": "Oswald"
       },
       "h6": {
        "color": "headingColor",
        "font-family": "Oswald"
       },
       "h7": {
        "color": "headingColor",
        "font-family": "Oswald"
       },
       "li": {
        "color": "mainColor",
        "font-family": "Lato",
        "font-size": 5
       },
       "p": {
        "color": "mainColor",
        "font-family": "Lato",
        "font-size": 5
       }
      },
      "text-base": {
       "color": "mainColor",
       "font-family": "Lato",
       "font-size": 5
      }
     },
     "a096e7f1-75c8-4add-bf6f-91586d812146": {
      "backgrounds": {
       "backgroundColor": {
        "background-color": "backgroundColor",
        "id": "backgroundColor"
       }
      },
      "id": "a096e7f1-75c8-4add-bf6f-91586d812146",
      "palette": {
       "backgroundColor": {
        "id": "backgroundColor",
        "rgb": [
         247,
         251,
         252
        ]
       },
       "headingColor": {
        "id": "headingColor",
        "rgb": [
         51,
         51,
         51
        ]
       },
       "linkColor": {
        "id": "linkColor",
        "rgb": [
         59,
         117,
         158
        ]
       },
       "mainColor": {
        "id": "mainColor",
        "rgb": [
         51,
         51,
         51
        ]
       }
      },
      "rules": {
       "a": {
        "color": "linkColor"
       },
       "h1": {
        "color": "headingColor",
        "font-family": "Quicksand",
        "font-size": 7
       },
       "h2": {
        "color": "headingColor",
        "font-family": "Quicksand",
        "font-size": 5
       },
       "h3": {
        "color": "headingColor",
        "font-family": "Quicksand",
        "font-size": 3.75
       },
       "h4": {
        "color": "headingColor",
        "font-family": "Quicksand",
        "font-size": 3
       },
       "h5": {
        "color": "headingColor",
        "font-family": "Quicksand"
       },
       "h6": {
        "color": "headingColor",
        "font-family": "Quicksand"
       },
       "h7": {
        "color": "headingColor",
        "font-family": "Quicksand"
       },
       "li": {
        "color": "mainColor",
        "font-family": "Open Sans",
        "font-size": 5
       },
       "p": {
        "color": "mainColor",
        "font-family": "Open Sans",
        "font-size": 5
       }
      },
      "text-base": {
       "color": "mainColor",
       "font-family": "Open Sans",
       "font-size": 5
      }
     },
     "a2ea63d7-751e-4551-9e3f-a21b25cfb32e": {
      "backgrounds": {
       "backgroundColor": {
        "background-color": "backgroundColor",
        "id": "backgroundColor"
       }
      },
      "id": "a2ea63d7-751e-4551-9e3f-a21b25cfb32e",
      "palette": {
       "backgroundColor": {
        "id": "backgroundColor",
        "rgb": [
         253,
         246,
         227
        ]
       },
       "headingColor": {
        "id": "headingColor",
        "rgb": [
         88,
         110,
         117
        ]
       },
       "linkColor": {
        "id": "linkColor",
        "rgb": [
         38,
         139,
         210
        ]
       },
       "mainColor": {
        "id": "mainColor",
        "rgb": [
         101,
         123,
         131
        ]
       }
      },
      "rules": {
       "a": {
        "color": "linkColor"
       },
       "h1": {
        "color": "headingColor",
        "font-family": "Oswald",
        "font-size": 7
       },
       "h2": {
        "color": "headingColor",
        "font-family": "Oswald",
        "font-size": 5
       },
       "h3": {
        "color": "headingColor",
        "font-family": "Oswald",
        "font-size": 3.75
       },
       "h4": {
        "color": "headingColor",
        "font-family": "Oswald",
        "font-size": 3
       },
       "h5": {
        "color": "headingColor",
        "font-family": "Oswald"
       },
       "h6": {
        "color": "headingColor",
        "font-family": "Oswald"
       },
       "h7": {
        "color": "headingColor",
        "font-family": "Oswald"
       },
       "li": {
        "color": "mainColor",
        "font-family": "Lato",
        "font-size": 5
       },
       "p": {
        "color": "mainColor",
        "font-family": "Lato",
        "font-size": 5
       }
      },
      "text-base": {
       "color": "mainColor",
       "font-family": "Lato",
       "font-size": 5
      }
     }
    }
   }
  }
 },
 "nbformat": 4,
 "nbformat_minor": 2
}
