{
 "cells": [
  {
   "cell_type": "code",
   "execution_count": 2,
   "metadata": {},
   "outputs": [],
   "source": [
    "def IoU_Calculation(gt_img, pred_img):\n",
    "    gt_img = gt_img.flatten()\n",
    "    pred_img = pred_img.flatten()\n",
    "    \n",
    "    IoU = []\n",
    "\n",
    "    for label in range(0,21):\n",
    "        intersection = 0 \n",
    "        union = 0\n",
    "        for gt, pred in zip(gt_img, pred_img):\n",
    "            if (gt == label and pred == label):\n",
    "                intersection += 1\n",
    "            if (gt == label or pred == label):\n",
    "                union += 1\n",
    "\n",
    "        if (intersection == 0):\n",
    "            IoU.append(0)\n",
    "        else:\n",
    "            IoU.append(intersection/union)\n",
    "    \n",
    "    return IoU"
   ]
  },
  {
   "cell_type": "code",
   "execution_count": 3,
   "metadata": {},
   "outputs": [
    {
     "name": "stdout",
     "output_type": "stream",
     "text": [
      "/home/dongwonshin/Desktop/dilation/batch_results_converted/2008_000059.png\n",
      "/home/dongwonshin/Desktop/Datasets/benchmark_RELEASE/dataset/pngs/2008_000059.png\n",
      "/home/dongwonshin/Desktop/dilation/batch_results_converted/2008_000115.png\n",
      "/home/dongwonshin/Desktop/Datasets/benchmark_RELEASE/dataset/pngs/2008_000115.png\n",
      "/home/dongwonshin/Desktop/dilation/batch_results_converted/2008_000133.png\n",
      "/home/dongwonshin/Desktop/Datasets/benchmark_RELEASE/dataset/pngs/2008_000133.png\n",
      "/home/dongwonshin/Desktop/dilation/batch_results_converted/2008_000073.png\n",
      "/home/dongwonshin/Desktop/Datasets/benchmark_RELEASE/dataset/pngs/2008_000073.png\n",
      "/home/dongwonshin/Desktop/dilation/batch_results_converted/2008_000027.png\n",
      "/home/dongwonshin/Desktop/Datasets/benchmark_RELEASE/dataset/pngs/2008_000027.png\n",
      "/home/dongwonshin/Desktop/dilation/batch_results_converted/2008_000007.png\n",
      "/home/dongwonshin/Desktop/Datasets/benchmark_RELEASE/dataset/pngs/2008_000007.png\n",
      "/home/dongwonshin/Desktop/dilation/batch_results_converted/2008_000123.png\n",
      "/home/dongwonshin/Desktop/Datasets/benchmark_RELEASE/dataset/pngs/2008_000123.png\n",
      "/home/dongwonshin/Desktop/dilation/batch_results_converted/2008_000067.png\n",
      "/home/dongwonshin/Desktop/Datasets/benchmark_RELEASE/dataset/pngs/2008_000067.png\n",
      "/home/dongwonshin/Desktop/dilation/batch_results_converted/2008_000051.png\n",
      "/home/dongwonshin/Desktop/Datasets/benchmark_RELEASE/dataset/pngs/2008_000051.png\n",
      "/home/dongwonshin/Desktop/dilation/batch_results_converted/2008_000043.png\n",
      "/home/dongwonshin/Desktop/Datasets/benchmark_RELEASE/dataset/pngs/2008_000043.png\n",
      "/home/dongwonshin/Desktop/dilation/batch_results_converted/2008_000009.png\n",
      "/home/dongwonshin/Desktop/Datasets/benchmark_RELEASE/dataset/pngs/2008_000009.png\n",
      "/home/dongwonshin/Desktop/dilation/batch_results_converted/2008_000003.png\n",
      "/home/dongwonshin/Desktop/Datasets/benchmark_RELEASE/dataset/pngs/2008_000003.png\n"
     ]
    }
   ],
   "source": [
    "from glob import glob\n",
    "import os\n",
    "from PIL import Image\n",
    "import numpy as np\n",
    "import scipy.misc\n",
    "\n",
    "pred_paths = glob('/home/dongwonshin/Desktop/dilation/batch_results_converted/*')\n",
    "\n",
    "IoU_list = []\n",
    "for n, pred_path in enumerate(pred_paths):\n",
    "    gt_path = pred_path.split('/')[-1]\n",
    "    gt_path = os.path.join('/home/dongwonshin/Desktop/Datasets/benchmark_RELEASE/dataset/pngs',\n",
    "                       gt_path.split('.')[-2] + '.png')\n",
    "    print(pred_path)\n",
    "    print(gt_path)\n",
    "\n",
    "    pred_img = scipy.misc.imread(pred_path)\n",
    "    gt_img = scipy.misc.imread(gt_path)\n",
    "    \n",
    "#     scipy.misc.imshow(pred_img)\n",
    "#     scipy.misc.imshow(gt_img)\n",
    "    \n",
    "    IoU_list.append(np.array(IoU_Calculation(pred_img, gt_img)))\n",
    "    if (n > 10): break;\n",
    "    "
   ]
  },
  {
   "cell_type": "code",
   "execution_count": 4,
   "metadata": {},
   "outputs": [
    {
     "name": "stdout",
     "output_type": "stream",
     "text": [
      "0 0.888927911021\n",
      "1 0.0\n",
      "2 0.0655817679501\n",
      "3 0.0653462401025\n",
      "4 0.015503875969\n",
      "5 0.0\n",
      "6 0.0\n",
      "7 0.130184635616\n",
      "8 0.074093926014\n",
      "9 0.168086697867\n",
      "10 0.090021704096\n",
      "11 0.0398025276461\n",
      "12 0.0781466146329\n",
      "13 0.0\n",
      "14 0.0\n",
      "15 0.129604429481\n",
      "16 0.0\n",
      "17 0.0\n",
      "18 0.0\n",
      "19 0.0772721454173\n",
      "20 0.0\n"
     ]
    }
   ],
   "source": [
    "sum_iou = np.zeros(21)\n",
    "for IoU_value in IoU_list:\n",
    "    sum_iou += IoU_value\n",
    "\n",
    "mean_iou = (sum_iou/len(IoU_list))\n",
    "\n",
    "for idx in range(len(mean_iou)):\n",
    "    print(idx, mean_iou[idx])"
   ]
  },
  {
   "cell_type": "code",
   "execution_count": null,
   "metadata": {},
   "outputs": [],
   "source": []
  }
 ],
 "metadata": {
  "kernelspec": {
   "display_name": "Python [conda env:pytorch]",
   "language": "python",
   "name": "conda-env-pytorch-py"
  },
  "language_info": {
   "codemirror_mode": {
    "name": "ipython",
    "version": 3
   },
   "file_extension": ".py",
   "mimetype": "text/x-python",
   "name": "python",
   "nbconvert_exporter": "python",
   "pygments_lexer": "ipython3",
   "version": "3.5.4"
  }
 },
 "nbformat": 4,
 "nbformat_minor": 2
}
